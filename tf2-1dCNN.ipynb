{
 "cells": [
  {
   "cell_type": "raw",
   "metadata": {},
   "source": [
    "! unzip aia-st2-forex-predict-overview.zip"
   ]
  },
  {
   "cell_type": "raw",
   "metadata": {},
   "source": [
    "%%bash\n",
    "pip install --upgrade pip\n",
    "#pip install --upgrade tensorflow_gpu # version 2.0.0\n",
    "pip install tensorflow-gpu==2.0.0"
   ]
  },
  {
   "cell_type": "raw",
   "metadata": {},
   "source": [
    "! mkdir model submit"
   ]
  },
  {
   "cell_type": "code",
   "execution_count": 1,
   "metadata": {},
   "outputs": [],
   "source": [
    "import tensorflow as tf\n",
    "import pandas as pd\n",
    "import numpy as np\n",
    "tf.keras.backend.set_floatx('float64')"
   ]
  },
  {
   "cell_type": "markdown",
   "metadata": {},
   "source": [
    "# Load Data"
   ]
  },
  {
   "cell_type": "code",
   "execution_count": 2,
   "metadata": {},
   "outputs": [
    {
     "data": {
      "text/plain": [
       "(74278, 7)"
      ]
     },
     "execution_count": 2,
     "metadata": {},
     "output_type": "execute_result"
    }
   ],
   "source": [
    "df = pd.read_csv('training_set.csv')\n",
    "df.shape"
   ]
  },
  {
   "cell_type": "code",
   "execution_count": 3,
   "metadata": {},
   "outputs": [
    {
     "data": {
      "text/html": [
       "<div>\n",
       "<style scoped>\n",
       "    .dataframe tbody tr th:only-of-type {\n",
       "        vertical-align: middle;\n",
       "    }\n",
       "\n",
       "    .dataframe tbody tr th {\n",
       "        vertical-align: top;\n",
       "    }\n",
       "\n",
       "    .dataframe thead th {\n",
       "        text-align: right;\n",
       "    }\n",
       "</style>\n",
       "<table border=\"1\" class=\"dataframe\">\n",
       "  <thead>\n",
       "    <tr style=\"text-align: right;\">\n",
       "      <th></th>\n",
       "      <th>Time</th>\n",
       "      <th>Weekday</th>\n",
       "      <th>Open</th>\n",
       "      <th>High</th>\n",
       "      <th>Low</th>\n",
       "      <th>Close</th>\n",
       "      <th>Volume</th>\n",
       "    </tr>\n",
       "  </thead>\n",
       "  <tbody>\n",
       "    <tr>\n",
       "      <th>0</th>\n",
       "      <td>170 05:00:00</td>\n",
       "      <td>0</td>\n",
       "      <td>1.12053</td>\n",
       "      <td>1.12079</td>\n",
       "      <td>1.12050</td>\n",
       "      <td>1.12067</td>\n",
       "      <td>302.690002</td>\n",
       "    </tr>\n",
       "    <tr>\n",
       "      <th>1</th>\n",
       "      <td>170 05:10:00</td>\n",
       "      <td>0</td>\n",
       "      <td>1.12066</td>\n",
       "      <td>1.12074</td>\n",
       "      <td>1.12051</td>\n",
       "      <td>1.12070</td>\n",
       "      <td>486.690001</td>\n",
       "    </tr>\n",
       "    <tr>\n",
       "      <th>2</th>\n",
       "      <td>170 05:20:00</td>\n",
       "      <td>0</td>\n",
       "      <td>1.12070</td>\n",
       "      <td>1.12071</td>\n",
       "      <td>1.12065</td>\n",
       "      <td>1.12070</td>\n",
       "      <td>212.120000</td>\n",
       "    </tr>\n",
       "    <tr>\n",
       "      <th>3</th>\n",
       "      <td>170 05:30:00</td>\n",
       "      <td>0</td>\n",
       "      <td>1.12070</td>\n",
       "      <td>1.12072</td>\n",
       "      <td>1.12050</td>\n",
       "      <td>1.12061</td>\n",
       "      <td>811.989999</td>\n",
       "    </tr>\n",
       "    <tr>\n",
       "      <th>4</th>\n",
       "      <td>170 05:40:00</td>\n",
       "      <td>0</td>\n",
       "      <td>1.12060</td>\n",
       "      <td>1.12079</td>\n",
       "      <td>1.12027</td>\n",
       "      <td>1.12029</td>\n",
       "      <td>502.870001</td>\n",
       "    </tr>\n",
       "  </tbody>\n",
       "</table>\n",
       "</div>"
      ],
      "text/plain": [
       "           Time  Weekday     Open     High      Low    Close      Volume\n",
       "0  170 05:00:00        0  1.12053  1.12079  1.12050  1.12067  302.690002\n",
       "1  170 05:10:00        0  1.12066  1.12074  1.12051  1.12070  486.690001\n",
       "2  170 05:20:00        0  1.12070  1.12071  1.12065  1.12070  212.120000\n",
       "3  170 05:30:00        0  1.12070  1.12072  1.12050  1.12061  811.989999\n",
       "4  170 05:40:00        0  1.12060  1.12079  1.12027  1.12029  502.870001"
      ]
     },
     "execution_count": 3,
     "metadata": {},
     "output_type": "execute_result"
    }
   ],
   "source": [
    "df.head()"
   ]
  },
  {
   "cell_type": "raw",
   "metadata": {},
   "source": [
    "del df['Time']"
   ]
  },
  {
   "cell_type": "code",
   "execution_count": 4,
   "metadata": {},
   "outputs": [],
   "source": [
    "data = df[['Close']]"
   ]
  },
  {
   "cell_type": "markdown",
   "metadata": {},
   "source": [
    "# Preprocessing"
   ]
  },
  {
   "cell_type": "code",
   "execution_count": 5,
   "metadata": {},
   "outputs": [],
   "source": [
    "from sklearn.preprocessing import StandardScaler"
   ]
  },
  {
   "cell_type": "code",
   "execution_count": 6,
   "metadata": {},
   "outputs": [],
   "source": [
    "ss = StandardScaler()\n",
    "data = ss.fit_transform(data)"
   ]
  },
  {
   "cell_type": "code",
   "execution_count": 7,
   "metadata": {},
   "outputs": [
    {
     "data": {
      "text/plain": [
       "(74278, 1)"
      ]
     },
     "execution_count": 7,
     "metadata": {},
     "output_type": "execute_result"
    }
   ],
   "source": [
    "data.shape"
   ]
  },
  {
   "cell_type": "markdown",
   "metadata": {},
   "source": [
    "# Create Dataset"
   ]
  },
  {
   "cell_type": "code",
   "execution_count": 250,
   "metadata": {},
   "outputs": [],
   "source": [
    "window = 10 #hyperparam\n",
    "n_output_timestamp = 1 #hyperparam"
   ]
  },
  {
   "cell_type": "code",
   "execution_count": 251,
   "metadata": {},
   "outputs": [
    {
     "data": {
      "text/plain": [
       "((74267, 10, 1), (74267, 1))"
      ]
     },
     "execution_count": 251,
     "metadata": {},
     "output_type": "execute_result"
    }
   ],
   "source": [
    "X, Y = [], []\n",
    "for i in range(len(data)-window-n_output_timestamp):\n",
    "    X.append( data[i:i+window, :] )\n",
    "    Y.append( data[i+window:i+window+n_output_timestamp, 0] )\n",
    "X = np.array(X)    \n",
    "Y = np.array(Y)  \n",
    "X.shape, Y.shape"
   ]
  },
  {
   "cell_type": "code",
   "execution_count": 252,
   "metadata": {},
   "outputs": [
    {
     "name": "stdout",
     "output_type": "stream",
     "text": [
      "(1024, 10, 1) (1024, 1)\n",
      "(1024, 10, 1) (1024, 1)\n"
     ]
    }
   ],
   "source": [
    "dataset = tf.data.Dataset.from_tensor_slices((X, Y)).shuffle(1024).batch(1024)\n",
    "\n",
    "for x, y in dataset:\n",
    "    print(x.numpy().shape, y.numpy().shape)\n",
    "    break\n",
    "    \n",
    "x, y = next(iter(dataset))\n",
    "print(x.numpy().shape, y.numpy().shape)"
   ]
  },
  {
   "cell_type": "markdown",
   "metadata": {},
   "source": [
    "# Build Model"
   ]
  },
  {
   "cell_type": "raw",
   "metadata": {},
   "source": [
    "tf.keras.layers.Conv1D?\n",
    "filters, kernel_size, strides=1, padding='valid', data_format='channels_last',"
   ]
  },
  {
   "cell_type": "code",
   "execution_count": 257,
   "metadata": {},
   "outputs": [],
   "source": [
    "model = tf.keras.Sequential([\n",
    "    tf.keras.layers.Conv1D(64, 5, 2, activation='relu'),\n",
    "    tf.keras.layers.Flatten(),\n",
    "    tf.keras.layers.Dense(1),\n",
    "])"
   ]
  },
  {
   "cell_type": "code",
   "execution_count": 258,
   "metadata": {},
   "outputs": [
    {
     "data": {
      "text/plain": [
       "TensorShape([1024, 1])"
      ]
     },
     "execution_count": 258,
     "metadata": {},
     "output_type": "execute_result"
    }
   ],
   "source": [
    "model(x).shape"
   ]
  },
  {
   "cell_type": "code",
   "execution_count": 259,
   "metadata": {},
   "outputs": [],
   "source": [
    "model.compile(loss='mse',\n",
    "              optimizer=tf.keras.optimizers.Adam(1e-2),\n",
    "              metrics=['mse'])"
   ]
  },
  {
   "cell_type": "code",
   "execution_count": 260,
   "metadata": {},
   "outputs": [
    {
     "name": "stdout",
     "output_type": "stream",
     "text": [
      "73/73 [==============================] - 1s 15ms/step - loss: 0.0432 - mse: 0.0435\n"
     ]
    }
   ],
   "source": [
    "history = model.fit(dataset, epochs=1,) #0.0016"
   ]
  },
  {
   "cell_type": "code",
   "execution_count": 265,
   "metadata": {},
   "outputs": [],
   "source": [
    "model.save_weights('model_1dCNN_epo1_0.0016.h5')"
   ]
  },
  {
   "cell_type": "code",
   "execution_count": 296,
   "metadata": {},
   "outputs": [],
   "source": [
    "model.load_weights('model_1dCNN_epo1_0.0016.h5')"
   ]
  },
  {
   "cell_type": "code",
   "execution_count": 297,
   "metadata": {},
   "outputs": [],
   "source": [
    "model.compile(loss='mse',\n",
    "              optimizer=tf.keras.optimizers.SGD(1e-1),\n",
    "              metrics=['mse'])"
   ]
  },
  {
   "cell_type": "code",
   "execution_count": 298,
   "metadata": {},
   "outputs": [
    {
     "name": "stdout",
     "output_type": "stream",
     "text": [
      "73/73 [==============================] - 1s 14ms/step - loss: 0.8157 - mse: 0.8208\n"
     ]
    }
   ],
   "source": [
    "history = model.fit(dataset, epochs=1,) #0.0014"
   ]
  },
  {
   "cell_type": "code",
   "execution_count": 302,
   "metadata": {},
   "outputs": [],
   "source": [
    "model.save_weights('model_1dCNN_epo2_0.0014.h5')"
   ]
  },
  {
   "cell_type": "code",
   "execution_count": 320,
   "metadata": {},
   "outputs": [],
   "source": [
    "model.load_weights('model_1dCNN_epo2_0.0014.h5')"
   ]
  },
  {
   "cell_type": "code",
   "execution_count": 321,
   "metadata": {},
   "outputs": [],
   "source": [
    "model.compile(loss='mse',\n",
    "              optimizer=tf.keras.optimizers.SGD(1e-2),\n",
    "              metrics=['mse'])"
   ]
  },
  {
   "cell_type": "code",
   "execution_count": 322,
   "metadata": {},
   "outputs": [
    {
     "name": "stdout",
     "output_type": "stream",
     "text": [
      "73/73 [==============================] - 1s 15ms/step - loss: 1.3563 - mse: 1.3642\n"
     ]
    }
   ],
   "source": [
    "history = model.fit(dataset, epochs=1,) "
   ]
  },
  {
   "cell_type": "code",
   "execution_count": 326,
   "metadata": {},
   "outputs": [
    {
     "name": "stdout",
     "output_type": "stream",
     "text": [
      "Epoch 1/3\n",
      "73/73 [==============================] - 1s 11ms/step - loss: 0.1107 - mse: 0.1108\n",
      "Epoch 2/3\n",
      "73/73 [==============================] - 1s 10ms/step - loss: 0.0449 - mse: 0.0447\n",
      "Epoch 3/3\n",
      "73/73 [==============================] - 1s 10ms/step - loss: 0.0162 - mse: 0.0161\n"
     ]
    }
   ],
   "source": [
    "history = model.fit(dataset, epochs=3,) #0.0022"
   ]
  },
  {
   "cell_type": "code",
   "execution_count": 330,
   "metadata": {},
   "outputs": [
    {
     "name": "stdout",
     "output_type": "stream",
     "text": [
      "Epoch 1/3\n",
      "73/73 [==============================] - 1s 11ms/step - loss: 0.0063 - mse: 0.0063\n",
      "Epoch 2/3\n",
      "73/73 [==============================] - 1s 10ms/step - loss: 0.0033 - mse: 0.0033\n",
      "Epoch 3/3\n",
      "73/73 [==============================] - 1s 11ms/step - loss: 0.0024 - mse: 0.0024\n"
     ]
    }
   ],
   "source": [
    "history = model.fit(dataset, epochs=3,) #0.0010"
   ]
  },
  {
   "cell_type": "code",
   "execution_count": 334,
   "metadata": {},
   "outputs": [],
   "source": [
    "model.save_weights('model_1dCNN_epo9_0.0010.h5')"
   ]
  },
  {
   "cell_type": "code",
   "execution_count": 404,
   "metadata": {},
   "outputs": [],
   "source": [
    "model.load_weights('model_1dCNN_epo9_0.0010.h5')"
   ]
  },
  {
   "cell_type": "code",
   "execution_count": null,
   "metadata": {},
   "outputs": [],
   "source": []
  },
  {
   "cell_type": "markdown",
   "metadata": {},
   "source": [
    "# Predict Test & Save Out"
   ]
  },
  {
   "cell_type": "code",
   "execution_count": 410,
   "metadata": {},
   "outputs": [],
   "source": [
    "# pred test\n",
    "n_pred_timestamp = 30\n",
    "data_ = np.array(list(data.flatten()) + [np.nan]*n_pred_timestamp)\n",
    "for i in range(len(data)-window-n_output_timestamp, \n",
    "               len(data)-window-n_output_timestamp+n_pred_timestamp):\n",
    "    X_test = data_[None, i:i+window, None]\n",
    "    assert(np.isnan(X_test).sum()==0 )\n",
    "    #print(i, X_test.shape)\n",
    "    y_test = model(X_test)\n",
    "    assert(y_test.shape==(1,1) )\n",
    "    data_[i+window+1] = float(y_test)\n"
   ]
  },
  {
   "cell_type": "code",
   "execution_count": 411,
   "metadata": {},
   "outputs": [
    {
     "data": {
      "text/plain": [
       "array([1.12484168, 1.12485839, 1.12480041, 1.12464811, 1.12437306,\n",
       "       1.12417243, 1.12380252, 1.12347339, 1.12314359, 1.12292459,\n",
       "       1.12262859, 1.12238928, 1.12216042, 1.12191717, 1.12164915,\n",
       "       1.12140101, 1.12114995, 1.12091742, 1.12069019, 1.1204807 ,\n",
       "       1.12027082, 1.120067  , 1.11986654, 1.11967284, 1.11948144,\n",
       "       1.11929867, 1.11912059, 1.11894913, 1.11878153, 1.11861944])"
      ]
     },
     "execution_count": 411,
     "metadata": {},
     "output_type": "execute_result"
    }
   ],
   "source": [
    "pred = data_[-30:]\n",
    "pred_ = ss.inverse_transform(pred)\n",
    "pred_"
   ]
  },
  {
   "cell_type": "code",
   "execution_count": null,
   "metadata": {},
   "outputs": [],
   "source": []
  },
  {
   "cell_type": "code",
   "execution_count": 412,
   "metadata": {},
   "outputs": [],
   "source": [
    "op_df = pd.read_csv('sample_submission.csv')\n",
    "op_df['Close'] = pred_\n",
    "op_df.to_csv('submit/my_submission_1dCNN.csv', index=False)"
   ]
  },
  {
   "cell_type": "code",
   "execution_count": null,
   "metadata": {},
   "outputs": [],
   "source": []
  },
  {
   "cell_type": "raw",
   "metadata": {},
   "source": [
    "from acc import score\n",
    "score(pred_) "
   ]
  },
  {
   "cell_type": "code",
   "execution_count": null,
   "metadata": {},
   "outputs": [],
   "source": []
  }
 ],
 "metadata": {
  "kernelspec": {
   "display_name": "Python3 (tf-2.0.0)",
   "language": "python",
   "name": "tf2"
  },
  "language_info": {
   "codemirror_mode": {
    "name": "ipython",
    "version": 3
   },
   "file_extension": ".py",
   "mimetype": "text/x-python",
   "name": "python",
   "nbconvert_exporter": "python",
   "pygments_lexer": "ipython3",
   "version": "3.6.7"
  }
 },
 "nbformat": 4,
 "nbformat_minor": 4
}
